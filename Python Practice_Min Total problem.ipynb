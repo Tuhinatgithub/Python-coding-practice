{
 "cells": [
  {
   "cell_type": "code",
   "execution_count": 51,
   "metadata": {},
   "outputs": [
    {
     "name": "stdout",
     "output_type": "stream",
     "text": [
      "Enter the size of the list 5\n",
      "Enter the list numbers separated by space: 2 4 6 64 8\n",
      "36.0\n"
     ]
    }
   ],
   "source": [
    "#Calculate least total of input list for given no of division operation\n",
    "def cond_total(k):\n",
    "    n = int(input(\"Enter the size of the list \"))\n",
    "    list1 = list(int(num) for num in input(\"Enter the list numbers separated by space: \").strip().split())[:n]\n",
    "        \n",
    "    for i in range(k):\n",
    "        list1[list1.index(max(list1))] = max(list1)/2\n",
    "        i+=1\n",
    "    print(sum(list1))\n",
    "    \n",
    "#run the function\n",
    "cond_total(2)"
   ]
  }
 ],
 "metadata": {
  "kernelspec": {
   "display_name": "Python 3",
   "language": "python",
   "name": "python3"
  },
  "language_info": {
   "codemirror_mode": {
    "name": "ipython",
    "version": 3
   },
   "file_extension": ".py",
   "mimetype": "text/x-python",
   "name": "python",
   "nbconvert_exporter": "python",
   "pygments_lexer": "ipython3",
   "version": "3.7.3"
  }
 },
 "nbformat": 4,
 "nbformat_minor": 2
}

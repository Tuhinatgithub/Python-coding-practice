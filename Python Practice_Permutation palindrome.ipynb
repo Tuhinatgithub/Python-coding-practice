{
 "cells": [
  {
   "cell_type": "code",
   "execution_count": 36,
   "metadata": {},
   "outputs": [
    {
     "name": "stdout",
     "output_type": "stream",
     "text": [
      "Please provide any string or number to check if it is palindrome: momg\n"
     ]
    },
    {
     "data": {
      "text/plain": [
       "'Your input is not a Palindrome'"
      ]
     },
     "execution_count": 36,
     "metadata": {},
     "output_type": "execute_result"
    }
   ],
   "source": [
    "#This is a code for Palindrome and Permutation palindrome\n",
    "\n",
    "def is_palindrome():\n",
    "    input_str = input(\"Please provide any string or number to check if it is palindrome: \")\n",
    "    input_str = input_str.replace(\" \", \"\")\n",
    "    input_str = input_str.lower()\n",
    "    \n",
    "    d_init = dict()\n",
    "    \n",
    "    for i in input_str:\n",
    "        if i in d_init:\n",
    "            d_init[i] += 1\n",
    "        else:\n",
    "            d_init[i] = 1\n",
    "    \n",
    "    odd_count = 0\n",
    "    \n",
    "    for key, val in d_init.items():\n",
    "        if val%2 != 0 and odd_count == 0:\n",
    "            odd_count += 1\n",
    "        elif val%2 != 0 and odd_count != 0:\n",
    "            return \"Your input is not a Palindrome\"\n",
    "    return \"Your input is a Palindrome\"\n",
    "\n",
    "#run the function\n",
    "is_palindrome()"
   ]
  },
  {
   "cell_type": "code",
   "execution_count": 95,
   "metadata": {},
   "outputs": [],
   "source": []
  },
  {
   "cell_type": "code",
   "execution_count": null,
   "metadata": {},
   "outputs": [],
   "source": []
  },
  {
   "cell_type": "code",
   "execution_count": null,
   "metadata": {},
   "outputs": [],
   "source": []
  }
 ],
 "metadata": {
  "kernelspec": {
   "display_name": "Python 3",
   "language": "python",
   "name": "python3"
  },
  "language_info": {
   "codemirror_mode": {
    "name": "ipython",
    "version": 3
   },
   "file_extension": ".py",
   "mimetype": "text/x-python",
   "name": "python",
   "nbconvert_exporter": "python",
   "pygments_lexer": "ipython3",
   "version": "3.7.3"
  }
 },
 "nbformat": 4,
 "nbformat_minor": 2
}
